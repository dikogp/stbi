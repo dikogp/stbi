{
  "nbformat": 4,
  "nbformat_minor": 0,
  "metadata": {
    "colab": {
      "name": "Copy of klasifikasitext.ipynb",
      "provenance": [],
      "collapsed_sections": [],
      "include_colab_link": true
    },
    "kernelspec": {
      "name": "python3",
      "display_name": "Python 3"
    }
  },
  "cells": [
    {
      "cell_type": "markdown",
      "metadata": {
        "id": "view-in-github",
        "colab_type": "text"
      },
      "source": [
        "<a href=\"https://colab.research.google.com/github/kungfumas/stbi/blob/master/Copy_of_klasifikasitext.ipynb\" target=\"_parent\"><img src=\"https://colab.research.google.com/assets/colab-badge.svg\" alt=\"Open In Colab\"/></a>"
      ]
    },
    {
      "cell_type": "code",
      "metadata": {
        "id": "OCSoDVPghZQ_",
        "colab_type": "code",
        "colab": {}
      },
      "source": [
        "import pandas as pd\n",
        "import numpy as np\n",
        "from sklearn.feature_extraction.text import CountVectorizer\n",
        "from sklearn.model_selection import train_test_split\n",
        "from sklearn.naive_bayes import MultinomialNB\n",
        "from sklearn.metrics import classification_report\n",
        "df = pd.read_csv('https://raw.githubusercontent.com/ariyani486/analisa_sentimen/master/datalaguTriariyani.csv')\n",
        "\n",
        "from Sastrawi.Stemmer.StemmerFactory import StemmerFactory\n",
        "factory = StemmerFactory()\n",
        "stemmer = factory.create_stemmer()\n",
        "df['label'] = df['label'].map({'positif': 0, 'negatif': 1})   \n",
        "\n"
      ],
      "execution_count": 0,
      "outputs": []
    },
    {
      "cell_type": "code",
      "metadata": {
        "id": "XpzevJgjN7sz",
        "colab_type": "code",
        "colab": {}
      },
      "source": [
        "from Sastrawi.StopWordRemover.StopWordRemoverFactory import StopWordRemoverFactory\n",
        " \n",
        "\n",
        "#Create factory\n",
        "stop_factory = StopWordRemoverFactory()\n",
        "more_stopword = ['dengan', 'ia','bahwa','oleh','apa','kau','tak']\n",
        " \n",
        "# Tambahkan Stopword Baru\n",
        "data = stop_factory.get_stop_words()+more_stopword\n",
        " \n",
        "stopword = stop_factory.create_stop_word_remover()\n"
      ],
      "execution_count": 0,
      "outputs": []
    },
    {
      "cell_type": "code",
      "metadata": {
        "id": "VhP4QrtoKwSE",
        "colab_type": "code",
        "colab": {
          "base_uri": "https://localhost:8080/",
          "height": 632
        },
        "outputId": "c6e48e71-28cb-443f-bd71-85e4e49e236b"
      },
      "source": [
        "from Sastrawi.StopWordRemover.StopWordRemoverFactory import StopWordRemoverFactory\n",
        " \n",
        "factory = StopWordRemoverFactory()\n",
        "stopword = factory.create_stop_word_remover()\n",
        "count_row = df.shape[0]\n",
        "for ind in df.index: \n",
        "     ##print(df['label'][ind], df['text'][ind])\n",
        "     katadasar = stopword.remove(stemmer.stem(df['text'][ind]))\n",
        "     df['text'][ind]= katadasar\n",
        "     print(df['label'][ind], df['text'][ind])\n"
      ],
      "execution_count": 26,
      "outputs": [
        {
          "output_type": "stream",
          "text": [
            "0 hello teman semua ayo sambut hari baru tiba apa ku rasa ku engkau tahu sama buka buka hari baru bagai semangat langkah depan jadi pribadi baru\n",
            "0 mentari benam teman sendiri teman aku pedih ku tahan mentari benam beri semangat baru tuk jiwa beri kicau merdu tuk hidup ku tahan\n",
            "0 kala kau putus asa lelah coba angkat bahu kawan gagal biasa bukan akhir segala awal cerita indah jangan pernah lelah lari kejar asa kau cari keep\n",
            "0 punya tujuh puluh tahun tak lompat mahir renang bahagia lihat kawan betina kumpul sama ajal besar berani perang sendiri aku hindar semut kecil otak cerdas rakit perangkat\n",
            "0 bila mimpi tantang hadap kuat tenaga bila mimpi lagu nyanyi sama mimpi panjang tetap terus juang semangat wujud\n",
            "0 tak manusia lahir sempurna jangan kau sesal segala jadi pernah coba berat hidup tak arti syukur apa hidup\n",
            "0 apa kau takut semua bukankah sedih sering alami buat biasa dengar ku bicara terus mimpi nyata jauh beda terus mimpi\n",
            "0 mimpi kunci takluk dunia lari lelah engkau raih laskar pelangi tak ikat waktu bebas mimpi angkasa warna bintang jiwa tar\n",
            "0 bilik bambu tempat tinggal hias lukis atap jerami alas tanah semua punya memang semua milik sendiri alang alang pagar rumah\n",
            "0 sini satu kisah cerita anak manusia tantang hidup sama coba gali makna cinta tetes air mata alir sela derai tawa lama tak henti kejar matahari\n",
            "0 mimpi indah tak pernah wujud kau lari kejar angan tak pernah sudah hm-hm-hm apa jadi ku kan selalu\n",
            "0 dulu sahabat teman hangat kalah sinar mentari dulu sahabat teman bagai ulat harap jadi kupu-kupu kini lang jauh kau jauh diri karna mungkin ku terlalu tindak jauh\n",
            "0 sahabat sejati hilang ingat hari saling kotak juta mimpi aku datang hampir lihat semua harta s lalu yang hebat\n",
            "0 biar kasih pergi terus mimpi kau tunda temu tempat layak sahabat percaya kan langkah sama tak ragu mu temu tempat layak sahabat\n",
            "0 tak mudah hadap beda arti tak mudah lewat rintang silih ganti kau diri masih sini tunjuk dunia arti sahabat kau teman sehat teman sejati hadap dunia\n",
            "1 luruh seluruh harap luruh semua janji jalan jalan tak temu hmm hmm tuh runtuh seluruh makna ingin tak temu tak satu pusar mu\n",
            "1 terlalu sadis cara jadi diri lampias cinta duli sakit aku tega nian cara singkir diri cinta dia pada\n",
            "1 milik hati tak pernah milik hadir bagai kisah hidup engkau aku cinta segenap rasa hati selalu ku coba jadi engkau minta aku tahu\n",
            "1 lama sendiri langkah sepi tak pernah kira akhir tiada diri sisi meski waktu datang lalu kau tiada tahan semua tak mampu ubah kau\n",
            "1 sandiwara lama sekian lama sama akhir cerita cinta sekalu aku bangga depan entah mana sembunyi rasa malu kini aku lewat sepi hari\n",
            "1 detik waktu terus jalan hias gelap terang suka duka tangis tawa gores bagai lukis ribu mimpi juta sepi hadir bagai teman sejati lelah jiwa resah air mata\n",
            "1 kau sesal putus diri tinggal aku kau fikir sempurna punya segala hingga kau paling tinggal ku mungkin sekarang kau bahagia\n",
            "1 tak mau aku percaya semua kasih sayang tak mau aku sentuh semua aku kamu tak erti rasa sakit bohong mulut manis pergi kau pergi hidup\n",
            "1 kau siksa sini rasa salah kini bunuh cara perlahan kau selalu hindar aku selalu coba ungkap semua lewat tatap mata nyata maaf tak pernah pantas\n",
            "1 sabar sayang aku pulang jangan dengar gosip murah aku janji sayang tuk selalu setia meski ku tak selalu samping tak usah menang ratap aku tak perlu kau pikir ku tinggal mana mungkin selimut tetangga\n",
            "1 aku tak erti apa rasa rindu tak pernah hebat aku cinta lebih kau tahu meski kau tak pernah tahu aku sembah hidup rela hati kau bisu diam ribu bahasa\n",
            "1 lama kau tinggal ku sempat sia sia kan aku pergi jauh titip perih tak sedikit peduli kamu rasa jadi aku sebentar tak kan sanggup hati terima sakit parah pergi jauh titip perih tak sedikit peduli\n",
            "1 nama cinta bersamaberbagi rasa lama nama cinta sama rasa panjang usia hingga tiba aku lihat cinta khianat cinta khianat\n",
            "1 diri tak pernah sadar semua kau milik kau buang aku tinggal diri kau hancur aku ku tak pernah aku kan tahan meski tak mungkin terjang kisah perih perih salah aku terlalu cinta\n",
            "1 ku temu cinta cari tahu hubung apa tlah akhir kau gantung hubung kau diam aku mau apa ku bagaimana kasih kapan kau gantung cerita cinta beri harap hingga mungkin ku tak sanggup\n"
          ],
          "name": "stdout"
        },
        {
          "output_type": "stream",
          "text": [
            "/usr/local/lib/python3.6/dist-packages/ipykernel_launcher.py:9: SettingWithCopyWarning: \n",
            "A value is trying to be set on a copy of a slice from a DataFrame\n",
            "\n",
            "See the caveats in the documentation: http://pandas.pydata.org/pandas-docs/stable/user_guide/indexing.html#returning-a-view-versus-a-copy\n",
            "  if __name__ == '__main__':\n"
          ],
          "name": "stderr"
        }
      ]
    },
    {
      "cell_type": "code",
      "metadata": {
        "id": "KfNOkXB-WMKr",
        "colab_type": "code",
        "colab": {
          "base_uri": "https://localhost:8080/",
          "height": 224
        },
        "outputId": "e28c8682-a5cb-42dd-faff-fc634af8707b"
      },
      "source": [
        "X= df['text']\n",
        "y = df['label']  \n",
        "cv = CountVectorizer()\n",
        "X = cv.fit_transform(X) # Fit the Data\n",
        "X_train, X_test, y_train, y_test = train_test_split(X, y, test_size=0.33, random_state=42)\n",
        "#Naive Bayes Classifier\n",
        "clf = MultinomialNB()\n",
        "clf.fit(X_train,y_train)\n",
        "clf.score(X_test,y_test)\n",
        "y_pred = clf.predict(X_test)\n",
        "print(classification_report(y_test, y_pred))"
      ],
      "execution_count": 28,
      "outputs": [
        {
          "output_type": "stream",
          "text": [
            "              precision    recall  f1-score   support\n",
            "\n",
            "           0       0.00      0.00      0.00         4\n",
            "           1       0.60      1.00      0.75         6\n",
            "\n",
            "    accuracy                           0.60        10\n",
            "   macro avg       0.30      0.50      0.37        10\n",
            "weighted avg       0.36      0.60      0.45        10\n",
            "\n"
          ],
          "name": "stdout"
        },
        {
          "output_type": "stream",
          "text": [
            "/usr/local/lib/python3.6/dist-packages/sklearn/metrics/_classification.py:1272: UndefinedMetricWarning: Precision and F-score are ill-defined and being set to 0.0 in labels with no predicted samples. Use `zero_division` parameter to control this behavior.\n",
            "  _warn_prf(average, modifier, msg_start, len(result))\n"
          ],
          "name": "stderr"
        }
      ]
    },
    {
      "cell_type": "code",
      "metadata": {
        "id": "tFGpr0xIJ8mI",
        "colab_type": "code",
        "colab": {
          "base_uri": "https://localhost:8080/",
          "height": 122
        },
        "outputId": "516845f3-3d85-4eaf-8b0d-30025bb13938"
      },
      "source": [
        "pip install Sastrawi"
      ],
      "execution_count": 2,
      "outputs": [
        {
          "output_type": "stream",
          "text": [
            "Collecting Sastrawi\n",
            "\u001b[?25l  Downloading https://files.pythonhosted.org/packages/6f/4b/bab676953da3103003730b8fcdfadbdd20f333d4add10af949dd5c51e6ed/Sastrawi-1.0.1-py2.py3-none-any.whl (209kB)\n",
            "\r\u001b[K     |█▋                              | 10kB 19.0MB/s eta 0:00:01\r\u001b[K     |███▏                            | 20kB 1.8MB/s eta 0:00:01\r\u001b[K     |████▊                           | 30kB 2.2MB/s eta 0:00:01\r\u001b[K     |██████▎                         | 40kB 1.7MB/s eta 0:00:01\r\u001b[K     |███████▉                        | 51kB 1.9MB/s eta 0:00:01\r\u001b[K     |█████████▍                      | 61kB 2.3MB/s eta 0:00:01\r\u001b[K     |███████████                     | 71kB 2.4MB/s eta 0:00:01\r\u001b[K     |████████████▌                   | 81kB 2.6MB/s eta 0:00:01\r\u001b[K     |██████████████                  | 92kB 3.0MB/s eta 0:00:01\r\u001b[K     |███████████████▋                | 102kB 2.8MB/s eta 0:00:01\r\u001b[K     |█████████████████▏              | 112kB 2.8MB/s eta 0:00:01\r\u001b[K     |██████████████████▊             | 122kB 2.8MB/s eta 0:00:01\r\u001b[K     |████████████████████▎           | 133kB 2.8MB/s eta 0:00:01\r\u001b[K     |█████████████████████▉          | 143kB 2.8MB/s eta 0:00:01\r\u001b[K     |███████████████████████▍        | 153kB 2.8MB/s eta 0:00:01\r\u001b[K     |█████████████████████████       | 163kB 2.8MB/s eta 0:00:01\r\u001b[K     |██████████████████████████▋     | 174kB 2.8MB/s eta 0:00:01\r\u001b[K     |████████████████████████████▏   | 184kB 2.8MB/s eta 0:00:01\r\u001b[K     |█████████████████████████████▊  | 194kB 2.8MB/s eta 0:00:01\r\u001b[K     |███████████████████████████████▎| 204kB 2.8MB/s eta 0:00:01\r\u001b[K     |████████████████████████████████| 215kB 2.8MB/s \n",
            "\u001b[?25hInstalling collected packages: Sastrawi\n",
            "Successfully installed Sastrawi-1.0.1\n"
          ],
          "name": "stdout"
        }
      ]
    }
  ]
}